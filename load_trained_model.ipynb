{
 "cells": [
  {
   "cell_type": "code",
   "execution_count": null,
   "metadata": {},
   "outputs": [
    {
     "ename": "",
     "evalue": "",
     "output_type": "error",
     "traceback": [
      "\u001b[1;31m'Python 3.12.3' でセルを実行するには、 ipykernel パッケージが必要です。\n",
      "\u001b[1;31m次のコマンドを実行して、'ipykernel' を Python 環境にインストールします。\n",
      "\u001b[1;31mコマンド: '/opt/homebrew/bin/python3.12 -m pip install ipykernel -U --user --force-reinstall'"
     ]
    }
   ],
   "source": [
    "import torch\n",
    "import torchvision.utils as vutils\n",
    "import matplotlib.pyplot as plt\n",
    "import numpy as np\n",
    "from lib.model_setup import Generator\n",
    "\n",
    "# ハイパーパラメータ\n",
    "nz = 100  # 潜在変数の次元\n",
    "device = torch.device(\"cuda\" if torch.cuda.is_available() else \"cpu\") \n",
    "path_to_archive = \"/Users/otaichiro/Downloads/DL_GAN_test-main/models_archive/celeba/generator_epoch200.pth\"\n",
    "# 学習済みのGeneratorモデルをロード\n",
    "generator = Generator(nz, 64, 3, 4).to(device)\n",
    "generator.load_state_dict(torch.load(path_to_archive, map_location=device))\n",
    "generator.eval()  # 推論モードに切り替え\n",
    "\n",
    "# 生成画像の作成\n",
    "num_samples = 1  # 生成する画像の数\n",
    "noise = torch.randn(num_samples, nz, 1, 1, device=device)\n",
    "with torch.no_grad():\n",
    "    fake_images = generator(noise).detach().cpu()\n",
    "\n",
    "# 画像の表示\n",
    "grid = vutils.make_grid(fake_images, padding=2, normalize=True)\n",
    "plt.figure(figsize=(6,6))\n",
    "plt.axis(\"off\")\n",
    "plt.title(\"Generated Images\")\n",
    "plt.imshow(np.transpose(grid, (1,2,0)))\n",
    "plt.show()\n",
    "\n",
    "print(\"推論完了\")\n"
   ]
  }
 ],
 "metadata": {
  "kernelspec": {
   "display_name": "Python 3",
   "language": "python",
   "name": "python3"
  },
  "language_info": {
   "codemirror_mode": {
    "name": "ipython",
    "version": 3
   },
   "file_extension": ".py",
   "mimetype": "text/x-python",
   "name": "python",
   "nbconvert_exporter": "python",
   "pygments_lexer": "ipython3",
   "version": "3.12.3"
  }
 },
 "nbformat": 4,
 "nbformat_minor": 2
}
